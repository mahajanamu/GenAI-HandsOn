{
  "cells": [
    {
      "cell_type": "markdown",
      "source": [
        "\n",
        "# 🧠 **Understanding Embeddings with BERT**\n",
        "\n",
        "In this notebook, we go into the world of embeddings, utilizing the BERT model to understand the semantic relationships between words in different contexts.\n",
        "\n",
        "## 🛠️ Setup and Installation\n",
        "\n",
        "Start by installing the necessary libraries to ensure all functionalities are available."
      ],
      "metadata": {
        "id": "yUuby3g8ouzm"
      }
    },
    {
      "cell_type": "code",
      "source": [
        "!pip install transformers==4.29.2\n",
        "!pip install scipy==1.7.3"
      ],
      "metadata": {
        "id": "6C1auKaP5I93"
      },
      "execution_count": 2,
      "outputs": []
    },
    {
      "cell_type": "markdown",
      "source": [
        "## 📚 Importing Libraries\n",
        "\n",
        "Import essential modules for our tasks."
      ],
      "metadata": {
        "id": "mpAjguA9o7tT"
      }
    },
    {
      "cell_type": "code",
      "source": [
        "from transformers import BertModel, AutoTokenizer\n",
        "from scipy.spatial.distance import cosine"
      ],
      "metadata": {
        "id": "DBwmRlXP5zY6"
      },
      "execution_count": 1,
      "outputs": []
    },
    {
      "cell_type": "markdown",
      "source": [
        "## 🤖 Model Setup\n",
        "\n",
        "Load the pre-trained BERT model and tokenizer. This model will help us extract embeddings for our analysis."
      ],
      "metadata": {
        "id": "XsfQ55vto_Bd"
      }
    },
    {
      "cell_type": "code",
      "source": [
        "# Defining the model name\n",
        "model_name = \"bert-base-cased\"\n",
        "\n",
        "# Loading the pre-trained model and tokenizer\n",
        "model = BertModel.from_pretrained(model_name)\n",
        "tokenizer = AutoTokenizer.from_pretrained(model_name)"
      ],
      "metadata": {
        "colab": {
          "base_uri": "https://localhost:8080/",
          "height": 301,
          "referenced_widgets": [
            "76614a6ac9504817a4c98795826e1a68",
            "68a48cf1da594f8c825e56f0504a2dd1",
            "0ab47addd3a3466aabda51249fe06a4f",
            "52c12ae058894a8c908578082958f4a6",
            "4a26d1ba88114d37963aac4633c82910",
            "ac581e5a6f3347f881c6765af7cf036e",
            "3b61518932ca4017bf2bf11371c29e14",
            "f32fcc2b525b42cebf5cefdb5b8586ac",
            "135e03170157425bac8e206a4ef39f3e",
            "87a14b1acd5e407b9e38d65b323a5794",
            "f7aea1195289442e8e52756c556ac318",
            "365df013c18f40208aaba7fbf4dd9e0a",
            "bd986dca6b544680899a93cab32a6efb",
            "bc31bf5207864be3a28f92277992dd29",
            "207a68543db045a4b9f64eaa6e50606f",
            "0e1c674abeed468dbaf0dc2450756eea",
            "0a5a1737182946beacb53e85bb37fb51",
            "0561e46400ee445888a2bc37c3cbdd3a",
            "c88692ac961b47c38d465bb666da3f3f",
            "24c15fea6f014671a667efd433825b79",
            "7e5751fa61c44f038eb6af5e35d71c4a",
            "983f02fb0cff47c4a21bde4cee8a587e",
            "230ce49cf9384f058465bfb4c079b942",
            "2778063daa0c42bea6b65344d336dca5",
            "694795b5d3a64bebb779d437b54bbb92",
            "e285e9e01d954bbe94d7c2eadf42483b",
            "baf8baf4524942dab79a20d03778bdc6",
            "646df2927d3e43b98aa5b66eac055c7b",
            "4ff33bbf9f13429bb2c9f8ab3d1958f9",
            "0bc8f0ecf4e34916997d5a5b21c637f8",
            "29c955d2f80b4d1286a64e9744c23445",
            "f86ac55a33534e5e8697ab0a05696e89",
            "7e5279ac7d424a9f954d953fcb0761ef",
            "27d98e8cd07e411084e2579f26ac2e2f",
            "767bf852291b460b8dee87480610c389",
            "9a91be6997954b1eb2b2312edf17ca40",
            "441de86905e841b8973f23210bd272b5",
            "a1d539c139e842609f673b669d622182",
            "8c7952adf8f04ecb831fe24a6764f0f9",
            "0339d2a6f84c4cfd86762c56a7a6eefa",
            "48920c5ca3d54d428baf1ada9aa681ef",
            "2a25b79db1f7459c9d40b1e6ae1f4771",
            "d6face741071499f93e49937d3e57b1b",
            "c42c390b44cb47ad8f5b2e0aacf9c02f",
            "bcdf262b6d814ec28983d2ada3353ff0",
            "c5ed2eb99d964b7ea7da1bef8196251f",
            "a78372e91bc04c9da2badd60527ad26c",
            "dc237efcee454fae9860dfc3f37edd2b",
            "a7c878d83aca4aa090fd07ebb69a7261",
            "16c5e450ac2847c0a25fc4a47fb5e52a",
            "2bdb63289b9f403f8d1c7a4e2ed0d67b",
            "59250afc352e4b599d911ebf675bf973",
            "3198c20c5cf640b69a8398afc0c280f8",
            "4c15f8ac353946db8398b9199104c075",
            "455a9a7b14f843689dc007b1c02047df"
          ]
        },
        "id": "L-JQ5YWeJB6Y",
        "outputId": "2440829d-4d88-4e33-bc8c-739e470fd8ba"
      },
      "execution_count": 2,
      "outputs": [
        {
          "output_type": "stream",
          "name": "stderr",
          "text": [
            "/usr/local/lib/python3.10/dist-packages/huggingface_hub/utils/_auth.py:94: UserWarning: \n",
            "The secret `HF_TOKEN` does not exist in your Colab secrets.\n",
            "To authenticate with the Hugging Face Hub, create a token in your settings tab (https://huggingface.co/settings/tokens), set it as secret in your Google Colab and restart your session.\n",
            "You will be able to reuse this secret in all of your notebooks.\n",
            "Please note that authentication is recommended but still optional to access public models or datasets.\n",
            "  warnings.warn(\n"
          ]
        },
        {
          "output_type": "display_data",
          "data": {
            "text/plain": [
              "config.json:   0%|          | 0.00/570 [00:00<?, ?B/s]"
            ],
            "application/vnd.jupyter.widget-view+json": {
              "version_major": 2,
              "version_minor": 0,
              "model_id": "76614a6ac9504817a4c98795826e1a68"
            }
          },
          "metadata": {}
        },
        {
          "output_type": "display_data",
          "data": {
            "text/plain": [
              "model.safetensors:   0%|          | 0.00/436M [00:00<?, ?B/s]"
            ],
            "application/vnd.jupyter.widget-view+json": {
              "version_major": 2,
              "version_minor": 0,
              "model_id": "365df013c18f40208aaba7fbf4dd9e0a"
            }
          },
          "metadata": {}
        },
        {
          "output_type": "display_data",
          "data": {
            "text/plain": [
              "tokenizer_config.json:   0%|          | 0.00/49.0 [00:00<?, ?B/s]"
            ],
            "application/vnd.jupyter.widget-view+json": {
              "version_major": 2,
              "version_minor": 0,
              "model_id": "230ce49cf9384f058465bfb4c079b942"
            }
          },
          "metadata": {}
        },
        {
          "output_type": "display_data",
          "data": {
            "text/plain": [
              "vocab.txt:   0%|          | 0.00/213k [00:00<?, ?B/s]"
            ],
            "application/vnd.jupyter.widget-view+json": {
              "version_major": 2,
              "version_minor": 0,
              "model_id": "27d98e8cd07e411084e2579f26ac2e2f"
            }
          },
          "metadata": {}
        },
        {
          "output_type": "display_data",
          "data": {
            "text/plain": [
              "tokenizer.json:   0%|          | 0.00/436k [00:00<?, ?B/s]"
            ],
            "application/vnd.jupyter.widget-view+json": {
              "version_major": 2,
              "version_minor": 0,
              "model_id": "bcdf262b6d814ec28983d2ada3353ff0"
            }
          },
          "metadata": {}
        }
      ]
    },
    {
      "cell_type": "markdown",
      "source": [
        "\n",
        "## 📝 Function Definition: Predict\n",
        "\n",
        "Define a function that encodes input text into tensors, which are then fed to the model to obtain embeddings."
      ],
      "metadata": {
        "id": "ZzoQD4KrpClk"
      }
    },
    {
      "cell_type": "code",
      "source": [
        "encoded_inputs = tokenizer(\"There was a fly drinking from my soup\", return_tensors=\"pt\")\n",
        "print(type(encoded_inputs))"
      ],
      "metadata": {
        "colab": {
          "base_uri": "https://localhost:8080/"
        },
        "id": "SZzjKQxO_xbX",
        "outputId": "41c9e892-87d4-47ea-97e3-16a9a8640150"
      },
      "execution_count": 3,
      "outputs": [
        {
          "output_type": "stream",
          "name": "stdout",
          "text": [
            "<class 'transformers.tokenization_utils_base.BatchEncoding'>\n"
          ]
        }
      ]
    },
    {
      "cell_type": "code",
      "source": [
        "# Defining a function to encode the input text and get model predictions\n",
        "def predict(text):\n",
        "    encoded_inputs = tokenizer(text, return_tensors=\"pt\")\n",
        "    return model(**encoded_inputs)[0]"
      ],
      "metadata": {
        "id": "GJIJ1VUZJBtp"
      },
      "execution_count": 4,
      "outputs": []
    },
    {
      "cell_type": "markdown",
      "source": [
        "## 📃 Defining the Sentences\n",
        "\n",
        "Set up sentences to analyze. The"
      ],
      "metadata": {
        "id": "eGyuVbYkpEfU"
      }
    },
    {
      "cell_type": "code",
      "source": [
        "# Defining the sentences\n",
        "sentence1 = \"There was a fly drinking from my soup\"\n",
        "sentence2 = \"There is a fly swimming in my juice\"\n",
        "# sentence2 = \"To become a commercial pilot, he had to fly for 1500 hours.\" # second fly example\n",
        "\n",
        "# Tokenizing the sentences\n",
        "tokens1 = tokenizer.tokenize(sentence1)\n",
        "tokens2 = tokenizer.tokenize(sentence2)"
      ],
      "metadata": {
        "id": "s_0dKdRbJFtL"
      },
      "execution_count": 5,
      "outputs": []
    },
    {
      "cell_type": "markdown",
      "source": [
        "## 🔍 Tokenization and Model Predictions\n",
        "\n",
        "Tokenize the sentences and obtain predictions (embeddings) from the model."
      ],
      "metadata": {
        "id": "fTn6NoNepG16"
      }
    },
    {
      "cell_type": "code",
      "source": [
        "# Getting model predictions for the sentences\n",
        "out1 = predict(sentence1)\n",
        "out2 = predict(sentence2)"
      ],
      "metadata": {
        "id": "5B0LO9xfJI2P"
      },
      "execution_count": 6,
      "outputs": []
    },
    {
      "cell_type": "code",
      "source": [
        "out1"
      ],
      "metadata": {
        "id": "3jYMr0BYCwh1",
        "outputId": "f90588f3-6790-4396-f632-c590175ab0d8",
        "colab": {
          "base_uri": "https://localhost:8080/"
        }
      },
      "execution_count": 7,
      "outputs": [
        {
          "output_type": "execute_result",
          "data": {
            "text/plain": [
              "tensor([[[ 0.5312,  0.2162,  0.0967,  ..., -0.2778,  0.2341, -0.2684],\n",
              "         [ 0.1996, -0.2155, -0.1150,  ...,  0.1952,  0.5705,  0.0951],\n",
              "         [ 0.2500, -0.0971,  0.5910,  ...,  0.1830, -0.0093,  0.0130],\n",
              "         ...,\n",
              "         [-0.1890, -0.1836,  0.0684,  ..., -0.1357,  0.2555,  0.3643],\n",
              "         [ 0.2328,  0.0131,  0.2131,  ..., -0.2474, -0.2384,  0.0111],\n",
              "         [ 1.3495,  0.1425,  0.1270,  ..., -0.5699,  0.5849, -0.7200]]],\n",
              "       grad_fn=<NativeLayerNormBackward0>)"
            ]
          },
          "metadata": {},
          "execution_count": 7
        }
      ]
    },
    {
      "cell_type": "markdown",
      "source": [
        "## 🔄 Extracting Embeddings\n",
        "\n",
        "Extract embeddings specifically for the word \"fly\" from both sentences."
      ],
      "metadata": {
        "id": "Mb8tPoc3pJxA"
      }
    },
    {
      "cell_type": "code",
      "source": [
        "# Extracting embeddings for the word 'fly' in both sentences\n",
        "emb1 = out1[0:, tokens1.index(\"fly\"), :].detach()[0]\n",
        "emb2 = out2[0:, tokens2.index(\"fly\"), :].detach()[0]\n",
        "\n",
        "# emb1 = out1[0:, 3, :].detach()\n",
        "# emb2 = out2[0:, 3, :].detach()"
      ],
      "metadata": {
        "id": "y8ZvAkGiJLZf"
      },
      "execution_count": 8,
      "outputs": []
    },
    {
      "cell_type": "markdown",
      "source": [
        "## 📊 Calculating Cosine Similarity\n",
        "\n",
        "Calculate the cosine similarity between the embeddings of the word \"fly\" from both sentences to measure how context affects meaning."
      ],
      "metadata": {
        "id": "gcvcIGiOpLyr"
      }
    },
    {
      "cell_type": "code",
      "source": [
        "# Calculating the cosine similarity between the embeddings\n",
        "cosine(emb1, emb2)"
      ],
      "metadata": {
        "colab": {
          "base_uri": "https://localhost:8080/"
        },
        "id": "GKVSZUxyJNZs",
        "outputId": "af61ef6d-ee41-4237-c044-1459a65600ad"
      },
      "execution_count": 9,
      "outputs": [
        {
          "output_type": "execute_result",
          "data": {
            "text/plain": [
              "0.06798790663962284"
            ]
          },
          "metadata": {},
          "execution_count": 9
        }
      ]
    },
    {
      "cell_type": "markdown",
      "source": [
        "![image.png](data:image/png;base64,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)"
      ],
      "metadata": {
        "id": "u2vvQo-yCQlu"
      }
    },
    {
      "cell_type": "markdown",
      "source": [
        "## 🌟 Conclusion\n",
        "\n",
        "This notebook has guided you through the process of extracting and comparing word embeddings using BERT. Such techniques are fundamental in understanding word semantics and their usage across different contexts.\n",
        "\n",
        "Experiment by changing the sentences or focusing on different words to see how the embeddings and their similarities vary!"
      ],
      "metadata": {
        "id": "gfFR3mbspN8y"
      }
    }
  ],
  "nbformat": 4,
  "nbformat_minor": 0,
  "metadata": {
    "language_info": {
      "name": "python"
    },
    "orig_nbformat": 4,
    "colab": {
      "provenance": []
    },
    "kernelspec": {
      "name": "python3",
      "display_name": "Python 3"
    },
    "widgets": {
      "application/vnd.jupyter.widget-state+json": {
        "76614a6ac9504817a4c98795826e1a68": {
          "model_module": "@jupyter-widgets/controls",
          "model_name": "HBoxModel",
          "model_module_version": "1.5.0",
          "state": {
            "_dom_classes": [],
            "_model_module": "@jupyter-widgets/controls",
            "_model_module_version": "1.5.0",
            "_model_name": "HBoxModel",
            "_view_count": null,
            "_view_module": "@jupyter-widgets/controls",
            "_view_module_version": "1.5.0",
            "_view_name": "HBoxView",
            "box_style": "",
            "children": [
              "IPY_MODEL_68a48cf1da594f8c825e56f0504a2dd1",
              "IPY_MODEL_0ab47addd3a3466aabda51249fe06a4f",
              "IPY_MODEL_52c12ae058894a8c908578082958f4a6"
            ],
            "layout": "IPY_MODEL_4a26d1ba88114d37963aac4633c82910"
          }
        },
        "68a48cf1da594f8c825e56f0504a2dd1": {
          "model_module": "@jupyter-widgets/controls",
          "model_name": "HTMLModel",
          "model_module_version": "1.5.0",
          "state": {
            "_dom_classes": [],
            "_model_module": "@jupyter-widgets/controls",
            "_model_module_version": "1.5.0",
            "_model_name": "HTMLModel",
            "_view_count": null,
            "_view_module": "@jupyter-widgets/controls",
            "_view_module_version": "1.5.0",
            "_view_name": "HTMLView",
            "description": "",
            "description_tooltip": null,
            "layout": "IPY_MODEL_ac581e5a6f3347f881c6765af7cf036e",
            "placeholder": "​",
            "style": "IPY_MODEL_3b61518932ca4017bf2bf11371c29e14",
            "value": "config.json: 100%"
          }
        },
        "0ab47addd3a3466aabda51249fe06a4f": {
          "model_module": "@jupyter-widgets/controls",
          "model_name": "FloatProgressModel",
          "model_module_version": "1.5.0",
          "state": {
            "_dom_classes": [],
            "_model_module": "@jupyter-widgets/controls",
            "_model_module_version": "1.5.0",
            "_model_name": "FloatProgressModel",
            "_view_count": null,
            "_view_module": "@jupyter-widgets/controls",
            "_view_module_version": "1.5.0",
            "_view_name": "ProgressView",
            "bar_style": "success",
            "description": "",
            "description_tooltip": null,
            "layout": "IPY_MODEL_f32fcc2b525b42cebf5cefdb5b8586ac",
            "max": 570,
            "min": 0,
            "orientation": "horizontal",
            "style": "IPY_MODEL_135e03170157425bac8e206a4ef39f3e",
            "value": 570
          }
        },
        "52c12ae058894a8c908578082958f4a6": {
          "model_module": "@jupyter-widgets/controls",
          "model_name": "HTMLModel",
          "model_module_version": "1.5.0",
          "state": {
            "_dom_classes": [],
            "_model_module": "@jupyter-widgets/controls",
            "_model_module_version": "1.5.0",
            "_model_name": "HTMLModel",
            "_view_count": null,
            "_view_module": "@jupyter-widgets/controls",
            "_view_module_version": "1.5.0",
            "_view_name": "HTMLView",
            "description": "",
            "description_tooltip": null,
            "layout": "IPY_MODEL_87a14b1acd5e407b9e38d65b323a5794",
            "placeholder": "​",
            "style": "IPY_MODEL_f7aea1195289442e8e52756c556ac318",
            "value": " 570/570 [00:00&lt;00:00, 24.7kB/s]"
          }
        },
        "4a26d1ba88114d37963aac4633c82910": {
          "model_module": "@jupyter-widgets/base",
          "model_name": "LayoutModel",
          "model_module_version": "1.2.0",
          "state": {
            "_model_module": "@jupyter-widgets/base",
            "_model_module_version": "1.2.0",
            "_model_name": "LayoutModel",
            "_view_count": null,
            "_view_module": "@jupyter-widgets/base",
            "_view_module_version": "1.2.0",
            "_view_name": "LayoutView",
            "align_content": null,
            "align_items": null,
            "align_self": null,
            "border": null,
            "bottom": null,
            "display": null,
            "flex": null,
            "flex_flow": null,
            "grid_area": null,
            "grid_auto_columns": null,
            "grid_auto_flow": null,
            "grid_auto_rows": null,
            "grid_column": null,
            "grid_gap": null,
            "grid_row": null,
            "grid_template_areas": null,
            "grid_template_columns": null,
            "grid_template_rows": null,
            "height": null,
            "justify_content": null,
            "justify_items": null,
            "left": null,
            "margin": null,
            "max_height": null,
            "max_width": null,
            "min_height": null,
            "min_width": null,
            "object_fit": null,
            "object_position": null,
            "order": null,
            "overflow": null,
            "overflow_x": null,
            "overflow_y": null,
            "padding": null,
            "right": null,
            "top": null,
            "visibility": null,
            "width": null
          }
        },
        "ac581e5a6f3347f881c6765af7cf036e": {
          "model_module": "@jupyter-widgets/base",
          "model_name": "LayoutModel",
          "model_module_version": "1.2.0",
          "state": {
            "_model_module": "@jupyter-widgets/base",
            "_model_module_version": "1.2.0",
            "_model_name": "LayoutModel",
            "_view_count": null,
            "_view_module": "@jupyter-widgets/base",
            "_view_module_version": "1.2.0",
            "_view_name": "LayoutView",
            "align_content": null,
            "align_items": null,
            "align_self": null,
            "border": null,
            "bottom": null,
            "display": null,
            "flex": null,
            "flex_flow": null,
            "grid_area": null,
            "grid_auto_columns": null,
            "grid_auto_flow": null,
            "grid_auto_rows": null,
            "grid_column": null,
            "grid_gap": null,
            "grid_row": null,
            "grid_template_areas": null,
            "grid_template_columns": null,
            "grid_template_rows": null,
            "height": null,
            "justify_content": null,
            "justify_items": null,
            "left": null,
            "margin": null,
            "max_height": null,
            "max_width": null,
            "min_height": null,
            "min_width": null,
            "object_fit": null,
            "object_position": null,
            "order": null,
            "overflow": null,
            "overflow_x": null,
            "overflow_y": null,
            "padding": null,
            "right": null,
            "top": null,
            "visibility": null,
            "width": null
          }
        },
        "3b61518932ca4017bf2bf11371c29e14": {
          "model_module": "@jupyter-widgets/controls",
          "model_name": "DescriptionStyleModel",
          "model_module_version": "1.5.0",
          "state": {
            "_model_module": "@jupyter-widgets/controls",
            "_model_module_version": "1.5.0",
            "_model_name": "DescriptionStyleModel",
            "_view_count": null,
            "_view_module": "@jupyter-widgets/base",
            "_view_module_version": "1.2.0",
            "_view_name": "StyleView",
            "description_width": ""
          }
        },
        "f32fcc2b525b42cebf5cefdb5b8586ac": {
          "model_module": "@jupyter-widgets/base",
          "model_name": "LayoutModel",
          "model_module_version": "1.2.0",
          "state": {
            "_model_module": "@jupyter-widgets/base",
            "_model_module_version": "1.2.0",
            "_model_name": "LayoutModel",
            "_view_count": null,
            "_view_module": "@jupyter-widgets/base",
            "_view_module_version": "1.2.0",
            "_view_name": "LayoutView",
            "align_content": null,
            "align_items": null,
            "align_self": null,
            "border": null,
            "bottom": null,
            "display": null,
            "flex": null,
            "flex_flow": null,
            "grid_area": null,
            "grid_auto_columns": null,
            "grid_auto_flow": null,
            "grid_auto_rows": null,
            "grid_column": null,
            "grid_gap": null,
            "grid_row": null,
            "grid_template_areas": null,
            "grid_template_columns": null,
            "grid_template_rows": null,
            "height": null,
            "justify_content": null,
            "justify_items": null,
            "left": null,
            "margin": null,
            "max_height": null,
            "max_width": null,
            "min_height": null,
            "min_width": null,
            "object_fit": null,
            "object_position": null,
            "order": null,
            "overflow": null,
            "overflow_x": null,
            "overflow_y": null,
            "padding": null,
            "right": null,
            "top": null,
            "visibility": null,
            "width": null
          }
        },
        "135e03170157425bac8e206a4ef39f3e": {
          "model_module": "@jupyter-widgets/controls",
          "model_name": "ProgressStyleModel",
          "model_module_version": "1.5.0",
          "state": {
            "_model_module": "@jupyter-widgets/controls",
            "_model_module_version": "1.5.0",
            "_model_name": "ProgressStyleModel",
            "_view_count": null,
            "_view_module": "@jupyter-widgets/base",
            "_view_module_version": "1.2.0",
            "_view_name": "StyleView",
            "bar_color": null,
            "description_width": ""
          }
        },
        "87a14b1acd5e407b9e38d65b323a5794": {
          "model_module": "@jupyter-widgets/base",
          "model_name": "LayoutModel",
          "model_module_version": "1.2.0",
          "state": {
            "_model_module": "@jupyter-widgets/base",
            "_model_module_version": "1.2.0",
            "_model_name": "LayoutModel",
            "_view_count": null,
            "_view_module": "@jupyter-widgets/base",
            "_view_module_version": "1.2.0",
            "_view_name": "LayoutView",
            "align_content": null,
            "align_items": null,
            "align_self": null,
            "border": null,
            "bottom": null,
            "display": null,
            "flex": null,
            "flex_flow": null,
            "grid_area": null,
            "grid_auto_columns": null,
            "grid_auto_flow": null,
            "grid_auto_rows": null,
            "grid_column": null,
            "grid_gap": null,
            "grid_row": null,
            "grid_template_areas": null,
            "grid_template_columns": null,
            "grid_template_rows": null,
            "height": null,
            "justify_content": null,
            "justify_items": null,
            "left": null,
            "margin": null,
            "max_height": null,
            "max_width": null,
            "min_height": null,
            "min_width": null,
            "object_fit": null,
            "object_position": null,
            "order": null,
            "overflow": null,
            "overflow_x": null,
            "overflow_y": null,
            "padding": null,
            "right": null,
            "top": null,
            "visibility": null,
            "width": null
          }
        },
        "f7aea1195289442e8e52756c556ac318": {
          "model_module": "@jupyter-widgets/controls",
          "model_name": "DescriptionStyleModel",
          "model_module_version": "1.5.0",
          "state": {
            "_model_module": "@jupyter-widgets/controls",
            "_model_module_version": "1.5.0",
            "_model_name": "DescriptionStyleModel",
            "_view_count": null,
            "_view_module": "@jupyter-widgets/base",
            "_view_module_version": "1.2.0",
            "_view_name": "StyleView",
            "description_width": ""
          }
        },
        "365df013c18f40208aaba7fbf4dd9e0a": {
          "model_module": "@jupyter-widgets/controls",
          "model_name": "HBoxModel",
          "model_module_version": "1.5.0",
          "state": {
            "_dom_classes": [],
            "_model_module": "@jupyter-widgets/controls",
            "_model_module_version": "1.5.0",
            "_model_name": "HBoxModel",
            "_view_count": null,
            "_view_module": "@jupyter-widgets/controls",
            "_view_module_version": "1.5.0",
            "_view_name": "HBoxView",
            "box_style": "",
            "children": [
              "IPY_MODEL_bd986dca6b544680899a93cab32a6efb",
              "IPY_MODEL_bc31bf5207864be3a28f92277992dd29",
              "IPY_MODEL_207a68543db045a4b9f64eaa6e50606f"
            ],
            "layout": "IPY_MODEL_0e1c674abeed468dbaf0dc2450756eea"
          }
        },
        "bd986dca6b544680899a93cab32a6efb": {
          "model_module": "@jupyter-widgets/controls",
          "model_name": "HTMLModel",
          "model_module_version": "1.5.0",
          "state": {
            "_dom_classes": [],
            "_model_module": "@jupyter-widgets/controls",
            "_model_module_version": "1.5.0",
            "_model_name": "HTMLModel",
            "_view_count": null,
            "_view_module": "@jupyter-widgets/controls",
            "_view_module_version": "1.5.0",
            "_view_name": "HTMLView",
            "description": "",
            "description_tooltip": null,
            "layout": "IPY_MODEL_0a5a1737182946beacb53e85bb37fb51",
            "placeholder": "​",
            "style": "IPY_MODEL_0561e46400ee445888a2bc37c3cbdd3a",
            "value": "model.safetensors: 100%"
          }
        },
        "bc31bf5207864be3a28f92277992dd29": {
          "model_module": "@jupyter-widgets/controls",
          "model_name": "FloatProgressModel",
          "model_module_version": "1.5.0",
          "state": {
            "_dom_classes": [],
            "_model_module": "@jupyter-widgets/controls",
            "_model_module_version": "1.5.0",
            "_model_name": "FloatProgressModel",
            "_view_count": null,
            "_view_module": "@jupyter-widgets/controls",
            "_view_module_version": "1.5.0",
            "_view_name": "ProgressView",
            "bar_style": "success",
            "description": "",
            "description_tooltip": null,
            "layout": "IPY_MODEL_c88692ac961b47c38d465bb666da3f3f",
            "max": 435755784,
            "min": 0,
            "orientation": "horizontal",
            "style": "IPY_MODEL_24c15fea6f014671a667efd433825b79",
            "value": 435755784
          }
        },
        "207a68543db045a4b9f64eaa6e50606f": {
          "model_module": "@jupyter-widgets/controls",
          "model_name": "HTMLModel",
          "model_module_version": "1.5.0",
          "state": {
            "_dom_classes": [],
            "_model_module": "@jupyter-widgets/controls",
            "_model_module_version": "1.5.0",
            "_model_name": "HTMLModel",
            "_view_count": null,
            "_view_module": "@jupyter-widgets/controls",
            "_view_module_version": "1.5.0",
            "_view_name": "HTMLView",
            "description": "",
            "description_tooltip": null,
            "layout": "IPY_MODEL_7e5751fa61c44f038eb6af5e35d71c4a",
            "placeholder": "​",
            "style": "IPY_MODEL_983f02fb0cff47c4a21bde4cee8a587e",
            "value": " 436M/436M [00:06&lt;00:00, 169MB/s]"
          }
        },
        "0e1c674abeed468dbaf0dc2450756eea": {
          "model_module": "@jupyter-widgets/base",
          "model_name": "LayoutModel",
          "model_module_version": "1.2.0",
          "state": {
            "_model_module": "@jupyter-widgets/base",
            "_model_module_version": "1.2.0",
            "_model_name": "LayoutModel",
            "_view_count": null,
            "_view_module": "@jupyter-widgets/base",
            "_view_module_version": "1.2.0",
            "_view_name": "LayoutView",
            "align_content": null,
            "align_items": null,
            "align_self": null,
            "border": null,
            "bottom": null,
            "display": null,
            "flex": null,
            "flex_flow": null,
            "grid_area": null,
            "grid_auto_columns": null,
            "grid_auto_flow": null,
            "grid_auto_rows": null,
            "grid_column": null,
            "grid_gap": null,
            "grid_row": null,
            "grid_template_areas": null,
            "grid_template_columns": null,
            "grid_template_rows": null,
            "height": null,
            "justify_content": null,
            "justify_items": null,
            "left": null,
            "margin": null,
            "max_height": null,
            "max_width": null,
            "min_height": null,
            "min_width": null,
            "object_fit": null,
            "object_position": null,
            "order": null,
            "overflow": null,
            "overflow_x": null,
            "overflow_y": null,
            "padding": null,
            "right": null,
            "top": null,
            "visibility": null,
            "width": null
          }
        },
        "0a5a1737182946beacb53e85bb37fb51": {
          "model_module": "@jupyter-widgets/base",
          "model_name": "LayoutModel",
          "model_module_version": "1.2.0",
          "state": {
            "_model_module": "@jupyter-widgets/base",
            "_model_module_version": "1.2.0",
            "_model_name": "LayoutModel",
            "_view_count": null,
            "_view_module": "@jupyter-widgets/base",
            "_view_module_version": "1.2.0",
            "_view_name": "LayoutView",
            "align_content": null,
            "align_items": null,
            "align_self": null,
            "border": null,
            "bottom": null,
            "display": null,
            "flex": null,
            "flex_flow": null,
            "grid_area": null,
            "grid_auto_columns": null,
            "grid_auto_flow": null,
            "grid_auto_rows": null,
            "grid_column": null,
            "grid_gap": null,
            "grid_row": null,
            "grid_template_areas": null,
            "grid_template_columns": null,
            "grid_template_rows": null,
            "height": null,
            "justify_content": null,
            "justify_items": null,
            "left": null,
            "margin": null,
            "max_height": null,
            "max_width": null,
            "min_height": null,
            "min_width": null,
            "object_fit": null,
            "object_position": null,
            "order": null,
            "overflow": null,
            "overflow_x": null,
            "overflow_y": null,
            "padding": null,
            "right": null,
            "top": null,
            "visibility": null,
            "width": null
          }
        },
        "0561e46400ee445888a2bc37c3cbdd3a": {
          "model_module": "@jupyter-widgets/controls",
          "model_name": "DescriptionStyleModel",
          "model_module_version": "1.5.0",
          "state": {
            "_model_module": "@jupyter-widgets/controls",
            "_model_module_version": "1.5.0",
            "_model_name": "DescriptionStyleModel",
            "_view_count": null,
            "_view_module": "@jupyter-widgets/base",
            "_view_module_version": "1.2.0",
            "_view_name": "StyleView",
            "description_width": ""
          }
        },
        "c88692ac961b47c38d465bb666da3f3f": {
          "model_module": "@jupyter-widgets/base",
          "model_name": "LayoutModel",
          "model_module_version": "1.2.0",
          "state": {
            "_model_module": "@jupyter-widgets/base",
            "_model_module_version": "1.2.0",
            "_model_name": "LayoutModel",
            "_view_count": null,
            "_view_module": "@jupyter-widgets/base",
            "_view_module_version": "1.2.0",
            "_view_name": "LayoutView",
            "align_content": null,
            "align_items": null,
            "align_self": null,
            "border": null,
            "bottom": null,
            "display": null,
            "flex": null,
            "flex_flow": null,
            "grid_area": null,
            "grid_auto_columns": null,
            "grid_auto_flow": null,
            "grid_auto_rows": null,
            "grid_column": null,
            "grid_gap": null,
            "grid_row": null,
            "grid_template_areas": null,
            "grid_template_columns": null,
            "grid_template_rows": null,
            "height": null,
            "justify_content": null,
            "justify_items": null,
            "left": null,
            "margin": null,
            "max_height": null,
            "max_width": null,
            "min_height": null,
            "min_width": null,
            "object_fit": null,
            "object_position": null,
            "order": null,
            "overflow": null,
            "overflow_x": null,
            "overflow_y": null,
            "padding": null,
            "right": null,
            "top": null,
            "visibility": null,
            "width": null
          }
        },
        "24c15fea6f014671a667efd433825b79": {
          "model_module": "@jupyter-widgets/controls",
          "model_name": "ProgressStyleModel",
          "model_module_version": "1.5.0",
          "state": {
            "_model_module": "@jupyter-widgets/controls",
            "_model_module_version": "1.5.0",
            "_model_name": "ProgressStyleModel",
            "_view_count": null,
            "_view_module": "@jupyter-widgets/base",
            "_view_module_version": "1.2.0",
            "_view_name": "StyleView",
            "bar_color": null,
            "description_width": ""
          }
        },
        "7e5751fa61c44f038eb6af5e35d71c4a": {
          "model_module": "@jupyter-widgets/base",
          "model_name": "LayoutModel",
          "model_module_version": "1.2.0",
          "state": {
            "_model_module": "@jupyter-widgets/base",
            "_model_module_version": "1.2.0",
            "_model_name": "LayoutModel",
            "_view_count": null,
            "_view_module": "@jupyter-widgets/base",
            "_view_module_version": "1.2.0",
            "_view_name": "LayoutView",
            "align_content": null,
            "align_items": null,
            "align_self": null,
            "border": null,
            "bottom": null,
            "display": null,
            "flex": null,
            "flex_flow": null,
            "grid_area": null,
            "grid_auto_columns": null,
            "grid_auto_flow": null,
            "grid_auto_rows": null,
            "grid_column": null,
            "grid_gap": null,
            "grid_row": null,
            "grid_template_areas": null,
            "grid_template_columns": null,
            "grid_template_rows": null,
            "height": null,
            "justify_content": null,
            "justify_items": null,
            "left": null,
            "margin": null,
            "max_height": null,
            "max_width": null,
            "min_height": null,
            "min_width": null,
            "object_fit": null,
            "object_position": null,
            "order": null,
            "overflow": null,
            "overflow_x": null,
            "overflow_y": null,
            "padding": null,
            "right": null,
            "top": null,
            "visibility": null,
            "width": null
          }
        },
        "983f02fb0cff47c4a21bde4cee8a587e": {
          "model_module": "@jupyter-widgets/controls",
          "model_name": "DescriptionStyleModel",
          "model_module_version": "1.5.0",
          "state": {
            "_model_module": "@jupyter-widgets/controls",
            "_model_module_version": "1.5.0",
            "_model_name": "DescriptionStyleModel",
            "_view_count": null,
            "_view_module": "@jupyter-widgets/base",
            "_view_module_version": "1.2.0",
            "_view_name": "StyleView",
            "description_width": ""
          }
        },
        "230ce49cf9384f058465bfb4c079b942": {
          "model_module": "@jupyter-widgets/controls",
          "model_name": "HBoxModel",
          "model_module_version": "1.5.0",
          "state": {
            "_dom_classes": [],
            "_model_module": "@jupyter-widgets/controls",
            "_model_module_version": "1.5.0",
            "_model_name": "HBoxModel",
            "_view_count": null,
            "_view_module": "@jupyter-widgets/controls",
            "_view_module_version": "1.5.0",
            "_view_name": "HBoxView",
            "box_style": "",
            "children": [
              "IPY_MODEL_2778063daa0c42bea6b65344d336dca5",
              "IPY_MODEL_694795b5d3a64bebb779d437b54bbb92",
              "IPY_MODEL_e285e9e01d954bbe94d7c2eadf42483b"
            ],
            "layout": "IPY_MODEL_baf8baf4524942dab79a20d03778bdc6"
          }
        },
        "2778063daa0c42bea6b65344d336dca5": {
          "model_module": "@jupyter-widgets/controls",
          "model_name": "HTMLModel",
          "model_module_version": "1.5.0",
          "state": {
            "_dom_classes": [],
            "_model_module": "@jupyter-widgets/controls",
            "_model_module_version": "1.5.0",
            "_model_name": "HTMLModel",
            "_view_count": null,
            "_view_module": "@jupyter-widgets/controls",
            "_view_module_version": "1.5.0",
            "_view_name": "HTMLView",
            "description": "",
            "description_tooltip": null,
            "layout": "IPY_MODEL_646df2927d3e43b98aa5b66eac055c7b",
            "placeholder": "​",
            "style": "IPY_MODEL_4ff33bbf9f13429bb2c9f8ab3d1958f9",
            "value": "tokenizer_config.json: 100%"
          }
        },
        "694795b5d3a64bebb779d437b54bbb92": {
          "model_module": "@jupyter-widgets/controls",
          "model_name": "FloatProgressModel",
          "model_module_version": "1.5.0",
          "state": {
            "_dom_classes": [],
            "_model_module": "@jupyter-widgets/controls",
            "_model_module_version": "1.5.0",
            "_model_name": "FloatProgressModel",
            "_view_count": null,
            "_view_module": "@jupyter-widgets/controls",
            "_view_module_version": "1.5.0",
            "_view_name": "ProgressView",
            "bar_style": "success",
            "description": "",
            "description_tooltip": null,
            "layout": "IPY_MODEL_0bc8f0ecf4e34916997d5a5b21c637f8",
            "max": 49,
            "min": 0,
            "orientation": "horizontal",
            "style": "IPY_MODEL_29c955d2f80b4d1286a64e9744c23445",
            "value": 49
          }
        },
        "e285e9e01d954bbe94d7c2eadf42483b": {
          "model_module": "@jupyter-widgets/controls",
          "model_name": "HTMLModel",
          "model_module_version": "1.5.0",
          "state": {
            "_dom_classes": [],
            "_model_module": "@jupyter-widgets/controls",
            "_model_module_version": "1.5.0",
            "_model_name": "HTMLModel",
            "_view_count": null,
            "_view_module": "@jupyter-widgets/controls",
            "_view_module_version": "1.5.0",
            "_view_name": "HTMLView",
            "description": "",
            "description_tooltip": null,
            "layout": "IPY_MODEL_f86ac55a33534e5e8697ab0a05696e89",
            "placeholder": "​",
            "style": "IPY_MODEL_7e5279ac7d424a9f954d953fcb0761ef",
            "value": " 49.0/49.0 [00:00&lt;00:00, 1.53kB/s]"
          }
        },
        "baf8baf4524942dab79a20d03778bdc6": {
          "model_module": "@jupyter-widgets/base",
          "model_name": "LayoutModel",
          "model_module_version": "1.2.0",
          "state": {
            "_model_module": "@jupyter-widgets/base",
            "_model_module_version": "1.2.0",
            "_model_name": "LayoutModel",
            "_view_count": null,
            "_view_module": "@jupyter-widgets/base",
            "_view_module_version": "1.2.0",
            "_view_name": "LayoutView",
            "align_content": null,
            "align_items": null,
            "align_self": null,
            "border": null,
            "bottom": null,
            "display": null,
            "flex": null,
            "flex_flow": null,
            "grid_area": null,
            "grid_auto_columns": null,
            "grid_auto_flow": null,
            "grid_auto_rows": null,
            "grid_column": null,
            "grid_gap": null,
            "grid_row": null,
            "grid_template_areas": null,
            "grid_template_columns": null,
            "grid_template_rows": null,
            "height": null,
            "justify_content": null,
            "justify_items": null,
            "left": null,
            "margin": null,
            "max_height": null,
            "max_width": null,
            "min_height": null,
            "min_width": null,
            "object_fit": null,
            "object_position": null,
            "order": null,
            "overflow": null,
            "overflow_x": null,
            "overflow_y": null,
            "padding": null,
            "right": null,
            "top": null,
            "visibility": null,
            "width": null
          }
        },
        "646df2927d3e43b98aa5b66eac055c7b": {
          "model_module": "@jupyter-widgets/base",
          "model_name": "LayoutModel",
          "model_module_version": "1.2.0",
          "state": {
            "_model_module": "@jupyter-widgets/base",
            "_model_module_version": "1.2.0",
            "_model_name": "LayoutModel",
            "_view_count": null,
            "_view_module": "@jupyter-widgets/base",
            "_view_module_version": "1.2.0",
            "_view_name": "LayoutView",
            "align_content": null,
            "align_items": null,
            "align_self": null,
            "border": null,
            "bottom": null,
            "display": null,
            "flex": null,
            "flex_flow": null,
            "grid_area": null,
            "grid_auto_columns": null,
            "grid_auto_flow": null,
            "grid_auto_rows": null,
            "grid_column": null,
            "grid_gap": null,
            "grid_row": null,
            "grid_template_areas": null,
            "grid_template_columns": null,
            "grid_template_rows": null,
            "height": null,
            "justify_content": null,
            "justify_items": null,
            "left": null,
            "margin": null,
            "max_height": null,
            "max_width": null,
            "min_height": null,
            "min_width": null,
            "object_fit": null,
            "object_position": null,
            "order": null,
            "overflow": null,
            "overflow_x": null,
            "overflow_y": null,
            "padding": null,
            "right": null,
            "top": null,
            "visibility": null,
            "width": null
          }
        },
        "4ff33bbf9f13429bb2c9f8ab3d1958f9": {
          "model_module": "@jupyter-widgets/controls",
          "model_name": "DescriptionStyleModel",
          "model_module_version": "1.5.0",
          "state": {
            "_model_module": "@jupyter-widgets/controls",
            "_model_module_version": "1.5.0",
            "_model_name": "DescriptionStyleModel",
            "_view_count": null,
            "_view_module": "@jupyter-widgets/base",
            "_view_module_version": "1.2.0",
            "_view_name": "StyleView",
            "description_width": ""
          }
        },
        "0bc8f0ecf4e34916997d5a5b21c637f8": {
          "model_module": "@jupyter-widgets/base",
          "model_name": "LayoutModel",
          "model_module_version": "1.2.0",
          "state": {
            "_model_module": "@jupyter-widgets/base",
            "_model_module_version": "1.2.0",
            "_model_name": "LayoutModel",
            "_view_count": null,
            "_view_module": "@jupyter-widgets/base",
            "_view_module_version": "1.2.0",
            "_view_name": "LayoutView",
            "align_content": null,
            "align_items": null,
            "align_self": null,
            "border": null,
            "bottom": null,
            "display": null,
            "flex": null,
            "flex_flow": null,
            "grid_area": null,
            "grid_auto_columns": null,
            "grid_auto_flow": null,
            "grid_auto_rows": null,
            "grid_column": null,
            "grid_gap": null,
            "grid_row": null,
            "grid_template_areas": null,
            "grid_template_columns": null,
            "grid_template_rows": null,
            "height": null,
            "justify_content": null,
            "justify_items": null,
            "left": null,
            "margin": null,
            "max_height": null,
            "max_width": null,
            "min_height": null,
            "min_width": null,
            "object_fit": null,
            "object_position": null,
            "order": null,
            "overflow": null,
            "overflow_x": null,
            "overflow_y": null,
            "padding": null,
            "right": null,
            "top": null,
            "visibility": null,
            "width": null
          }
        },
        "29c955d2f80b4d1286a64e9744c23445": {
          "model_module": "@jupyter-widgets/controls",
          "model_name": "ProgressStyleModel",
          "model_module_version": "1.5.0",
          "state": {
            "_model_module": "@jupyter-widgets/controls",
            "_model_module_version": "1.5.0",
            "_model_name": "ProgressStyleModel",
            "_view_count": null,
            "_view_module": "@jupyter-widgets/base",
            "_view_module_version": "1.2.0",
            "_view_name": "StyleView",
            "bar_color": null,
            "description_width": ""
          }
        },
        "f86ac55a33534e5e8697ab0a05696e89": {
          "model_module": "@jupyter-widgets/base",
          "model_name": "LayoutModel",
          "model_module_version": "1.2.0",
          "state": {
            "_model_module": "@jupyter-widgets/base",
            "_model_module_version": "1.2.0",
            "_model_name": "LayoutModel",
            "_view_count": null,
            "_view_module": "@jupyter-widgets/base",
            "_view_module_version": "1.2.0",
            "_view_name": "LayoutView",
            "align_content": null,
            "align_items": null,
            "align_self": null,
            "border": null,
            "bottom": null,
            "display": null,
            "flex": null,
            "flex_flow": null,
            "grid_area": null,
            "grid_auto_columns": null,
            "grid_auto_flow": null,
            "grid_auto_rows": null,
            "grid_column": null,
            "grid_gap": null,
            "grid_row": null,
            "grid_template_areas": null,
            "grid_template_columns": null,
            "grid_template_rows": null,
            "height": null,
            "justify_content": null,
            "justify_items": null,
            "left": null,
            "margin": null,
            "max_height": null,
            "max_width": null,
            "min_height": null,
            "min_width": null,
            "object_fit": null,
            "object_position": null,
            "order": null,
            "overflow": null,
            "overflow_x": null,
            "overflow_y": null,
            "padding": null,
            "right": null,
            "top": null,
            "visibility": null,
            "width": null
          }
        },
        "7e5279ac7d424a9f954d953fcb0761ef": {
          "model_module": "@jupyter-widgets/controls",
          "model_name": "DescriptionStyleModel",
          "model_module_version": "1.5.0",
          "state": {
            "_model_module": "@jupyter-widgets/controls",
            "_model_module_version": "1.5.0",
            "_model_name": "DescriptionStyleModel",
            "_view_count": null,
            "_view_module": "@jupyter-widgets/base",
            "_view_module_version": "1.2.0",
            "_view_name": "StyleView",
            "description_width": ""
          }
        },
        "27d98e8cd07e411084e2579f26ac2e2f": {
          "model_module": "@jupyter-widgets/controls",
          "model_name": "HBoxModel",
          "model_module_version": "1.5.0",
          "state": {
            "_dom_classes": [],
            "_model_module": "@jupyter-widgets/controls",
            "_model_module_version": "1.5.0",
            "_model_name": "HBoxModel",
            "_view_count": null,
            "_view_module": "@jupyter-widgets/controls",
            "_view_module_version": "1.5.0",
            "_view_name": "HBoxView",
            "box_style": "",
            "children": [
              "IPY_MODEL_767bf852291b460b8dee87480610c389",
              "IPY_MODEL_9a91be6997954b1eb2b2312edf17ca40",
              "IPY_MODEL_441de86905e841b8973f23210bd272b5"
            ],
            "layout": "IPY_MODEL_a1d539c139e842609f673b669d622182"
          }
        },
        "767bf852291b460b8dee87480610c389": {
          "model_module": "@jupyter-widgets/controls",
          "model_name": "HTMLModel",
          "model_module_version": "1.5.0",
          "state": {
            "_dom_classes": [],
            "_model_module": "@jupyter-widgets/controls",
            "_model_module_version": "1.5.0",
            "_model_name": "HTMLModel",
            "_view_count": null,
            "_view_module": "@jupyter-widgets/controls",
            "_view_module_version": "1.5.0",
            "_view_name": "HTMLView",
            "description": "",
            "description_tooltip": null,
            "layout": "IPY_MODEL_8c7952adf8f04ecb831fe24a6764f0f9",
            "placeholder": "​",
            "style": "IPY_MODEL_0339d2a6f84c4cfd86762c56a7a6eefa",
            "value": "vocab.txt: 100%"
          }
        },
        "9a91be6997954b1eb2b2312edf17ca40": {
          "model_module": "@jupyter-widgets/controls",
          "model_name": "FloatProgressModel",
          "model_module_version": "1.5.0",
          "state": {
            "_dom_classes": [],
            "_model_module": "@jupyter-widgets/controls",
            "_model_module_version": "1.5.0",
            "_model_name": "FloatProgressModel",
            "_view_count": null,
            "_view_module": "@jupyter-widgets/controls",
            "_view_module_version": "1.5.0",
            "_view_name": "ProgressView",
            "bar_style": "success",
            "description": "",
            "description_tooltip": null,
            "layout": "IPY_MODEL_48920c5ca3d54d428baf1ada9aa681ef",
            "max": 213450,
            "min": 0,
            "orientation": "horizontal",
            "style": "IPY_MODEL_2a25b79db1f7459c9d40b1e6ae1f4771",
            "value": 213450
          }
        },
        "441de86905e841b8973f23210bd272b5": {
          "model_module": "@jupyter-widgets/controls",
          "model_name": "HTMLModel",
          "model_module_version": "1.5.0",
          "state": {
            "_dom_classes": [],
            "_model_module": "@jupyter-widgets/controls",
            "_model_module_version": "1.5.0",
            "_model_name": "HTMLModel",
            "_view_count": null,
            "_view_module": "@jupyter-widgets/controls",
            "_view_module_version": "1.5.0",
            "_view_name": "HTMLView",
            "description": "",
            "description_tooltip": null,
            "layout": "IPY_MODEL_d6face741071499f93e49937d3e57b1b",
            "placeholder": "​",
            "style": "IPY_MODEL_c42c390b44cb47ad8f5b2e0aacf9c02f",
            "value": " 213k/213k [00:00&lt;00:00, 2.68MB/s]"
          }
        },
        "a1d539c139e842609f673b669d622182": {
          "model_module": "@jupyter-widgets/base",
          "model_name": "LayoutModel",
          "model_module_version": "1.2.0",
          "state": {
            "_model_module": "@jupyter-widgets/base",
            "_model_module_version": "1.2.0",
            "_model_name": "LayoutModel",
            "_view_count": null,
            "_view_module": "@jupyter-widgets/base",
            "_view_module_version": "1.2.0",
            "_view_name": "LayoutView",
            "align_content": null,
            "align_items": null,
            "align_self": null,
            "border": null,
            "bottom": null,
            "display": null,
            "flex": null,
            "flex_flow": null,
            "grid_area": null,
            "grid_auto_columns": null,
            "grid_auto_flow": null,
            "grid_auto_rows": null,
            "grid_column": null,
            "grid_gap": null,
            "grid_row": null,
            "grid_template_areas": null,
            "grid_template_columns": null,
            "grid_template_rows": null,
            "height": null,
            "justify_content": null,
            "justify_items": null,
            "left": null,
            "margin": null,
            "max_height": null,
            "max_width": null,
            "min_height": null,
            "min_width": null,
            "object_fit": null,
            "object_position": null,
            "order": null,
            "overflow": null,
            "overflow_x": null,
            "overflow_y": null,
            "padding": null,
            "right": null,
            "top": null,
            "visibility": null,
            "width": null
          }
        },
        "8c7952adf8f04ecb831fe24a6764f0f9": {
          "model_module": "@jupyter-widgets/base",
          "model_name": "LayoutModel",
          "model_module_version": "1.2.0",
          "state": {
            "_model_module": "@jupyter-widgets/base",
            "_model_module_version": "1.2.0",
            "_model_name": "LayoutModel",
            "_view_count": null,
            "_view_module": "@jupyter-widgets/base",
            "_view_module_version": "1.2.0",
            "_view_name": "LayoutView",
            "align_content": null,
            "align_items": null,
            "align_self": null,
            "border": null,
            "bottom": null,
            "display": null,
            "flex": null,
            "flex_flow": null,
            "grid_area": null,
            "grid_auto_columns": null,
            "grid_auto_flow": null,
            "grid_auto_rows": null,
            "grid_column": null,
            "grid_gap": null,
            "grid_row": null,
            "grid_template_areas": null,
            "grid_template_columns": null,
            "grid_template_rows": null,
            "height": null,
            "justify_content": null,
            "justify_items": null,
            "left": null,
            "margin": null,
            "max_height": null,
            "max_width": null,
            "min_height": null,
            "min_width": null,
            "object_fit": null,
            "object_position": null,
            "order": null,
            "overflow": null,
            "overflow_x": null,
            "overflow_y": null,
            "padding": null,
            "right": null,
            "top": null,
            "visibility": null,
            "width": null
          }
        },
        "0339d2a6f84c4cfd86762c56a7a6eefa": {
          "model_module": "@jupyter-widgets/controls",
          "model_name": "DescriptionStyleModel",
          "model_module_version": "1.5.0",
          "state": {
            "_model_module": "@jupyter-widgets/controls",
            "_model_module_version": "1.5.0",
            "_model_name": "DescriptionStyleModel",
            "_view_count": null,
            "_view_module": "@jupyter-widgets/base",
            "_view_module_version": "1.2.0",
            "_view_name": "StyleView",
            "description_width": ""
          }
        },
        "48920c5ca3d54d428baf1ada9aa681ef": {
          "model_module": "@jupyter-widgets/base",
          "model_name": "LayoutModel",
          "model_module_version": "1.2.0",
          "state": {
            "_model_module": "@jupyter-widgets/base",
            "_model_module_version": "1.2.0",
            "_model_name": "LayoutModel",
            "_view_count": null,
            "_view_module": "@jupyter-widgets/base",
            "_view_module_version": "1.2.0",
            "_view_name": "LayoutView",
            "align_content": null,
            "align_items": null,
            "align_self": null,
            "border": null,
            "bottom": null,
            "display": null,
            "flex": null,
            "flex_flow": null,
            "grid_area": null,
            "grid_auto_columns": null,
            "grid_auto_flow": null,
            "grid_auto_rows": null,
            "grid_column": null,
            "grid_gap": null,
            "grid_row": null,
            "grid_template_areas": null,
            "grid_template_columns": null,
            "grid_template_rows": null,
            "height": null,
            "justify_content": null,
            "justify_items": null,
            "left": null,
            "margin": null,
            "max_height": null,
            "max_width": null,
            "min_height": null,
            "min_width": null,
            "object_fit": null,
            "object_position": null,
            "order": null,
            "overflow": null,
            "overflow_x": null,
            "overflow_y": null,
            "padding": null,
            "right": null,
            "top": null,
            "visibility": null,
            "width": null
          }
        },
        "2a25b79db1f7459c9d40b1e6ae1f4771": {
          "model_module": "@jupyter-widgets/controls",
          "model_name": "ProgressStyleModel",
          "model_module_version": "1.5.0",
          "state": {
            "_model_module": "@jupyter-widgets/controls",
            "_model_module_version": "1.5.0",
            "_model_name": "ProgressStyleModel",
            "_view_count": null,
            "_view_module": "@jupyter-widgets/base",
            "_view_module_version": "1.2.0",
            "_view_name": "StyleView",
            "bar_color": null,
            "description_width": ""
          }
        },
        "d6face741071499f93e49937d3e57b1b": {
          "model_module": "@jupyter-widgets/base",
          "model_name": "LayoutModel",
          "model_module_version": "1.2.0",
          "state": {
            "_model_module": "@jupyter-widgets/base",
            "_model_module_version": "1.2.0",
            "_model_name": "LayoutModel",
            "_view_count": null,
            "_view_module": "@jupyter-widgets/base",
            "_view_module_version": "1.2.0",
            "_view_name": "LayoutView",
            "align_content": null,
            "align_items": null,
            "align_self": null,
            "border": null,
            "bottom": null,
            "display": null,
            "flex": null,
            "flex_flow": null,
            "grid_area": null,
            "grid_auto_columns": null,
            "grid_auto_flow": null,
            "grid_auto_rows": null,
            "grid_column": null,
            "grid_gap": null,
            "grid_row": null,
            "grid_template_areas": null,
            "grid_template_columns": null,
            "grid_template_rows": null,
            "height": null,
            "justify_content": null,
            "justify_items": null,
            "left": null,
            "margin": null,
            "max_height": null,
            "max_width": null,
            "min_height": null,
            "min_width": null,
            "object_fit": null,
            "object_position": null,
            "order": null,
            "overflow": null,
            "overflow_x": null,
            "overflow_y": null,
            "padding": null,
            "right": null,
            "top": null,
            "visibility": null,
            "width": null
          }
        },
        "c42c390b44cb47ad8f5b2e0aacf9c02f": {
          "model_module": "@jupyter-widgets/controls",
          "model_name": "DescriptionStyleModel",
          "model_module_version": "1.5.0",
          "state": {
            "_model_module": "@jupyter-widgets/controls",
            "_model_module_version": "1.5.0",
            "_model_name": "DescriptionStyleModel",
            "_view_count": null,
            "_view_module": "@jupyter-widgets/base",
            "_view_module_version": "1.2.0",
            "_view_name": "StyleView",
            "description_width": ""
          }
        },
        "bcdf262b6d814ec28983d2ada3353ff0": {
          "model_module": "@jupyter-widgets/controls",
          "model_name": "HBoxModel",
          "model_module_version": "1.5.0",
          "state": {
            "_dom_classes": [],
            "_model_module": "@jupyter-widgets/controls",
            "_model_module_version": "1.5.0",
            "_model_name": "HBoxModel",
            "_view_count": null,
            "_view_module": "@jupyter-widgets/controls",
            "_view_module_version": "1.5.0",
            "_view_name": "HBoxView",
            "box_style": "",
            "children": [
              "IPY_MODEL_c5ed2eb99d964b7ea7da1bef8196251f",
              "IPY_MODEL_a78372e91bc04c9da2badd60527ad26c",
              "IPY_MODEL_dc237efcee454fae9860dfc3f37edd2b"
            ],
            "layout": "IPY_MODEL_a7c878d83aca4aa090fd07ebb69a7261"
          }
        },
        "c5ed2eb99d964b7ea7da1bef8196251f": {
          "model_module": "@jupyter-widgets/controls",
          "model_name": "HTMLModel",
          "model_module_version": "1.5.0",
          "state": {
            "_dom_classes": [],
            "_model_module": "@jupyter-widgets/controls",
            "_model_module_version": "1.5.0",
            "_model_name": "HTMLModel",
            "_view_count": null,
            "_view_module": "@jupyter-widgets/controls",
            "_view_module_version": "1.5.0",
            "_view_name": "HTMLView",
            "description": "",
            "description_tooltip": null,
            "layout": "IPY_MODEL_16c5e450ac2847c0a25fc4a47fb5e52a",
            "placeholder": "​",
            "style": "IPY_MODEL_2bdb63289b9f403f8d1c7a4e2ed0d67b",
            "value": "tokenizer.json: 100%"
          }
        },
        "a78372e91bc04c9da2badd60527ad26c": {
          "model_module": "@jupyter-widgets/controls",
          "model_name": "FloatProgressModel",
          "model_module_version": "1.5.0",
          "state": {
            "_dom_classes": [],
            "_model_module": "@jupyter-widgets/controls",
            "_model_module_version": "1.5.0",
            "_model_name": "FloatProgressModel",
            "_view_count": null,
            "_view_module": "@jupyter-widgets/controls",
            "_view_module_version": "1.5.0",
            "_view_name": "ProgressView",
            "bar_style": "success",
            "description": "",
            "description_tooltip": null,
            "layout": "IPY_MODEL_59250afc352e4b599d911ebf675bf973",
            "max": 435797,
            "min": 0,
            "orientation": "horizontal",
            "style": "IPY_MODEL_3198c20c5cf640b69a8398afc0c280f8",
            "value": 435797
          }
        },
        "dc237efcee454fae9860dfc3f37edd2b": {
          "model_module": "@jupyter-widgets/controls",
          "model_name": "HTMLModel",
          "model_module_version": "1.5.0",
          "state": {
            "_dom_classes": [],
            "_model_module": "@jupyter-widgets/controls",
            "_model_module_version": "1.5.0",
            "_model_name": "HTMLModel",
            "_view_count": null,
            "_view_module": "@jupyter-widgets/controls",
            "_view_module_version": "1.5.0",
            "_view_name": "HTMLView",
            "description": "",
            "description_tooltip": null,
            "layout": "IPY_MODEL_4c15f8ac353946db8398b9199104c075",
            "placeholder": "​",
            "style": "IPY_MODEL_455a9a7b14f843689dc007b1c02047df",
            "value": " 436k/436k [00:00&lt;00:00, 5.15MB/s]"
          }
        },
        "a7c878d83aca4aa090fd07ebb69a7261": {
          "model_module": "@jupyter-widgets/base",
          "model_name": "LayoutModel",
          "model_module_version": "1.2.0",
          "state": {
            "_model_module": "@jupyter-widgets/base",
            "_model_module_version": "1.2.0",
            "_model_name": "LayoutModel",
            "_view_count": null,
            "_view_module": "@jupyter-widgets/base",
            "_view_module_version": "1.2.0",
            "_view_name": "LayoutView",
            "align_content": null,
            "align_items": null,
            "align_self": null,
            "border": null,
            "bottom": null,
            "display": null,
            "flex": null,
            "flex_flow": null,
            "grid_area": null,
            "grid_auto_columns": null,
            "grid_auto_flow": null,
            "grid_auto_rows": null,
            "grid_column": null,
            "grid_gap": null,
            "grid_row": null,
            "grid_template_areas": null,
            "grid_template_columns": null,
            "grid_template_rows": null,
            "height": null,
            "justify_content": null,
            "justify_items": null,
            "left": null,
            "margin": null,
            "max_height": null,
            "max_width": null,
            "min_height": null,
            "min_width": null,
            "object_fit": null,
            "object_position": null,
            "order": null,
            "overflow": null,
            "overflow_x": null,
            "overflow_y": null,
            "padding": null,
            "right": null,
            "top": null,
            "visibility": null,
            "width": null
          }
        },
        "16c5e450ac2847c0a25fc4a47fb5e52a": {
          "model_module": "@jupyter-widgets/base",
          "model_name": "LayoutModel",
          "model_module_version": "1.2.0",
          "state": {
            "_model_module": "@jupyter-widgets/base",
            "_model_module_version": "1.2.0",
            "_model_name": "LayoutModel",
            "_view_count": null,
            "_view_module": "@jupyter-widgets/base",
            "_view_module_version": "1.2.0",
            "_view_name": "LayoutView",
            "align_content": null,
            "align_items": null,
            "align_self": null,
            "border": null,
            "bottom": null,
            "display": null,
            "flex": null,
            "flex_flow": null,
            "grid_area": null,
            "grid_auto_columns": null,
            "grid_auto_flow": null,
            "grid_auto_rows": null,
            "grid_column": null,
            "grid_gap": null,
            "grid_row": null,
            "grid_template_areas": null,
            "grid_template_columns": null,
            "grid_template_rows": null,
            "height": null,
            "justify_content": null,
            "justify_items": null,
            "left": null,
            "margin": null,
            "max_height": null,
            "max_width": null,
            "min_height": null,
            "min_width": null,
            "object_fit": null,
            "object_position": null,
            "order": null,
            "overflow": null,
            "overflow_x": null,
            "overflow_y": null,
            "padding": null,
            "right": null,
            "top": null,
            "visibility": null,
            "width": null
          }
        },
        "2bdb63289b9f403f8d1c7a4e2ed0d67b": {
          "model_module": "@jupyter-widgets/controls",
          "model_name": "DescriptionStyleModel",
          "model_module_version": "1.5.0",
          "state": {
            "_model_module": "@jupyter-widgets/controls",
            "_model_module_version": "1.5.0",
            "_model_name": "DescriptionStyleModel",
            "_view_count": null,
            "_view_module": "@jupyter-widgets/base",
            "_view_module_version": "1.2.0",
            "_view_name": "StyleView",
            "description_width": ""
          }
        },
        "59250afc352e4b599d911ebf675bf973": {
          "model_module": "@jupyter-widgets/base",
          "model_name": "LayoutModel",
          "model_module_version": "1.2.0",
          "state": {
            "_model_module": "@jupyter-widgets/base",
            "_model_module_version": "1.2.0",
            "_model_name": "LayoutModel",
            "_view_count": null,
            "_view_module": "@jupyter-widgets/base",
            "_view_module_version": "1.2.0",
            "_view_name": "LayoutView",
            "align_content": null,
            "align_items": null,
            "align_self": null,
            "border": null,
            "bottom": null,
            "display": null,
            "flex": null,
            "flex_flow": null,
            "grid_area": null,
            "grid_auto_columns": null,
            "grid_auto_flow": null,
            "grid_auto_rows": null,
            "grid_column": null,
            "grid_gap": null,
            "grid_row": null,
            "grid_template_areas": null,
            "grid_template_columns": null,
            "grid_template_rows": null,
            "height": null,
            "justify_content": null,
            "justify_items": null,
            "left": null,
            "margin": null,
            "max_height": null,
            "max_width": null,
            "min_height": null,
            "min_width": null,
            "object_fit": null,
            "object_position": null,
            "order": null,
            "overflow": null,
            "overflow_x": null,
            "overflow_y": null,
            "padding": null,
            "right": null,
            "top": null,
            "visibility": null,
            "width": null
          }
        },
        "3198c20c5cf640b69a8398afc0c280f8": {
          "model_module": "@jupyter-widgets/controls",
          "model_name": "ProgressStyleModel",
          "model_module_version": "1.5.0",
          "state": {
            "_model_module": "@jupyter-widgets/controls",
            "_model_module_version": "1.5.0",
            "_model_name": "ProgressStyleModel",
            "_view_count": null,
            "_view_module": "@jupyter-widgets/base",
            "_view_module_version": "1.2.0",
            "_view_name": "StyleView",
            "bar_color": null,
            "description_width": ""
          }
        },
        "4c15f8ac353946db8398b9199104c075": {
          "model_module": "@jupyter-widgets/base",
          "model_name": "LayoutModel",
          "model_module_version": "1.2.0",
          "state": {
            "_model_module": "@jupyter-widgets/base",
            "_model_module_version": "1.2.0",
            "_model_name": "LayoutModel",
            "_view_count": null,
            "_view_module": "@jupyter-widgets/base",
            "_view_module_version": "1.2.0",
            "_view_name": "LayoutView",
            "align_content": null,
            "align_items": null,
            "align_self": null,
            "border": null,
            "bottom": null,
            "display": null,
            "flex": null,
            "flex_flow": null,
            "grid_area": null,
            "grid_auto_columns": null,
            "grid_auto_flow": null,
            "grid_auto_rows": null,
            "grid_column": null,
            "grid_gap": null,
            "grid_row": null,
            "grid_template_areas": null,
            "grid_template_columns": null,
            "grid_template_rows": null,
            "height": null,
            "justify_content": null,
            "justify_items": null,
            "left": null,
            "margin": null,
            "max_height": null,
            "max_width": null,
            "min_height": null,
            "min_width": null,
            "object_fit": null,
            "object_position": null,
            "order": null,
            "overflow": null,
            "overflow_x": null,
            "overflow_y": null,
            "padding": null,
            "right": null,
            "top": null,
            "visibility": null,
            "width": null
          }
        },
        "455a9a7b14f843689dc007b1c02047df": {
          "model_module": "@jupyter-widgets/controls",
          "model_name": "DescriptionStyleModel",
          "model_module_version": "1.5.0",
          "state": {
            "_model_module": "@jupyter-widgets/controls",
            "_model_module_version": "1.5.0",
            "_model_name": "DescriptionStyleModel",
            "_view_count": null,
            "_view_module": "@jupyter-widgets/base",
            "_view_module_version": "1.2.0",
            "_view_name": "StyleView",
            "description_width": ""
          }
        }
      }
    }
  }
}